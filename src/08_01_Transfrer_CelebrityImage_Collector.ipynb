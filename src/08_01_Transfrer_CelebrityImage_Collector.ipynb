{
 "cells": [
  {
   "cell_type": "code",
   "execution_count": 17,
   "id": "40070e3b",
   "metadata": {},
   "outputs": [],
   "source": [
    "import warnings\n",
    "\n",
    "# 모든 경고 메시지 무시\n",
    "warnings.filterwarnings('ignore')"
   ]
  },
  {
   "cell_type": "markdown",
   "id": "ce8b8c5f",
   "metadata": {},
   "source": [
    "# 1. 데이터 수집"
   ]
  },
  {
   "cell_type": "code",
   "execution_count": null,
   "id": "ad4ee20a",
   "metadata": {},
   "outputs": [
    {
     "name": "stderr",
     "output_type": "stream",
     "text": [
      "Cloning into 'bing_image_downloader'...\n"
     ]
    }
   ],
   "source": [
    "!git clone https://github.com/ndb796/bing_image_downloader"
   ]
  },
  {
   "cell_type": "markdown",
   "id": "9960b87f",
   "metadata": {},
   "source": [
    "Dir 구조\n",
    "- dataset\n",
    "    - train data\n",
    "        - class1\n",
    "        - class2\n",
    "        - class3\n",
    "    - test data\n",
    "        - class1\n",
    "        - class2\n",
    "        - class3"
   ]
  },
  {
   "cell_type": "code",
   "execution_count": null,
   "id": "14d3e597",
   "metadata": {},
   "outputs": [
    {
     "ename": "FileExistsError",
     "evalue": "[WinError 183] 파일이 이미 있으므로 만들 수 없습니다: 'dataset_celebirity/train/'",
     "output_type": "error",
     "traceback": [
      "\u001b[31m---------------------------------------------------------------------------\u001b[39m",
      "\u001b[31mFileExistsError\u001b[39m                           Traceback (most recent call last)",
      "\u001b[36mCell\u001b[39m\u001b[36m \u001b[39m\u001b[32mIn[6]\u001b[39m\u001b[32m, line 10\u001b[39m\n\u001b[32m      4\u001b[39m directory_list = [\n\u001b[32m      5\u001b[39m     \u001b[33m'\u001b[39m\u001b[33mdataset_celebirity/train/\u001b[39m\u001b[33m'\u001b[39m,\n\u001b[32m      6\u001b[39m     \u001b[33m'\u001b[39m\u001b[33mdataset_celebirity/test/\u001b[39m\u001b[33m'\u001b[39m,\n\u001b[32m      7\u001b[39m ]\n\u001b[32m      9\u001b[39m \u001b[38;5;28;01mfor\u001b[39;00m \u001b[38;5;28mdir\u001b[39m \u001b[38;5;129;01min\u001b[39;00m directory_list:\n\u001b[32m---> \u001b[39m\u001b[32m10\u001b[39m     \u001b[43mos\u001b[49m\u001b[43m.\u001b[49m\u001b[43mmakedirs\u001b[49m\u001b[43m(\u001b[49m\u001b[38;5;28;43mdir\u001b[39;49m\u001b[43m)\u001b[49m\n",
      "\u001b[36mFile \u001b[39m\u001b[32m<frozen os>:225\u001b[39m, in \u001b[36mmakedirs\u001b[39m\u001b[34m(name, mode, exist_ok)\u001b[39m\n",
      "\u001b[31mFileExistsError\u001b[39m: [WinError 183] 파일이 이미 있으므로 만들 수 없습니다: 'dataset_celebirity/train/'"
     ]
    }
   ],
   "source": [
    "import os\n",
    "import shutil\n",
    "\n",
    "directory_list = [\n",
    "    'dataset_celebirity/train/',\n",
    "    'dataset_celebirity/test/',\n",
    "]\n",
    "\n",
    "for dir in directory_list:\n",
    "    if not os.path.isdir(dir):\n",
    "        os.makedirs(dir)"
   ]
  },
  {
   "cell_type": "code",
   "execution_count": 96,
   "id": "be655704",
   "metadata": {},
   "outputs": [],
   "source": [
    "query_list = ['마동석', '카리나', '이수지']\n",
    "query_list.sort()"
   ]
  },
  {
   "cell_type": "code",
   "execution_count": null,
   "id": "3e873be2",
   "metadata": {},
   "outputs": [
    {
     "name": "stdout",
     "output_type": "stream",
     "text": [
      "[Info] Indexing page: 1\n",
      "[Info] Indexed 35 Images on Page 1.\n",
      "===============================================\n",
      "#1 이미지 다운로드 (https://image.xportsnews.com/contents/images/upload/article/2022/1128/1669621507974521.jpg)\n",
      "#1 파일 다운로드가 완료되었습니다.\n",
      "#2 이미지 다운로드 (https://cdn.movietok.kr/news/photo/202212/12978_17366_5142.jpg)\n",
      "#2 파일 다운로드가 완료되었습니다.\n",
      "#3 이미지 다운로드 (https://wallpaperaccess.com/full/9547499.jpg)\n",
      "#3 파일 다운로드가 완료되었습니다.\n",
      "#4 이미지 다운로드 (https://www.sportsw.kr/news/data/20230601/p1065555127941654_720_thum.jpg)\n",
      "#4 파일 다운로드가 완료되었습니다.\n",
      "#5 이미지 다운로드 (https://img.sbs.co.kr/newsnet/etv/upload/2022/11/17/30000804359_1280.jpg)\n",
      "#5 파일 다운로드가 완료되었습니다.\n",
      "#6 이미지 다운로드 (https://thumbnews.nateimg.co.kr/view610/news.nateimg.co.kr/orgImg/nn/2022/10/20/202210201954151810_1.jpg)\n",
      "#6 파일 다운로드가 완료되었습니다.\n",
      "#7 이미지 다운로드 (https://img.hankyung.com/photo/201709/01.14677695.1.jpg)\n",
      "#7 파일 다운로드가 완료되었습니다.\n",
      "#8 이미지 다운로드 (http://talkimg.imbc.com/TVianUpload/tvian/TViews/image/2019/05/14/5tjArQ2TYQ7Y636934517816837543.jpg)\n",
      "#8 파일 다운로드가 완료되었습니다.\n",
      "#9 이미지 다운로드 (https://img.sbs.co.kr/newsnet/etv/upload/2022/10/20/30000798339_1280.jpg)\n"
     ]
    },
    {
     "ename": "KeyboardInterrupt",
     "evalue": "",
     "output_type": "error",
     "traceback": [
      "\u001b[31m---------------------------------------------------------------------------\u001b[39m",
      "\u001b[31mKeyboardInterrupt\u001b[39m                         Traceback (most recent call last)",
      "\u001b[36mCell\u001b[39m\u001b[36m \u001b[39m\u001b[32mIn[46]\u001b[39m\u001b[32m, line 6\u001b[39m\n\u001b[32m      3\u001b[39m query_list = [\u001b[33m'\u001b[39m\u001b[33m마동석\u001b[39m\u001b[33m'\u001b[39m, \u001b[33m'\u001b[39m\u001b[33m카리나\u001b[39m\u001b[33m'\u001b[39m, \u001b[33m'\u001b[39m\u001b[33m이수지\u001b[39m\u001b[33m'\u001b[39m]\n\u001b[32m      5\u001b[39m \u001b[38;5;28;01mfor\u001b[39;00m query \u001b[38;5;129;01min\u001b[39;00m query_list:\n\u001b[32m----> \u001b[39m\u001b[32m6\u001b[39m     \u001b[43mdownloader\u001b[49m\u001b[43m.\u001b[49m\u001b[43mdownload\u001b[49m\u001b[43m(\u001b[49m\u001b[43mquery\u001b[49m\u001b[43m=\u001b[49m\u001b[43mquery\u001b[49m\u001b[43m,\u001b[49m\u001b[43m \u001b[49m\u001b[43mlimit\u001b[49m\u001b[43m=\u001b[49m\u001b[32;43m50\u001b[39;49m\u001b[43m,\u001b[49m\u001b[43m \u001b[49m\u001b[43moutput_dir\u001b[49m\u001b[43m=\u001b[49m\u001b[33;43m'\u001b[39;49m\u001b[33;43mdataset_celebirity/\u001b[39;49m\u001b[33;43m'\u001b[39;49m\u001b[43m,\u001b[49m\u001b[43m \u001b[49m\u001b[43madult_filter_off\u001b[49m\u001b[43m=\u001b[49m\u001b[38;5;28;43;01mTrue\u001b[39;49;00m\u001b[43m,\u001b[49m\u001b[43m \u001b[49m\u001b[43mforce_replace\u001b[49m\u001b[43m=\u001b[49m\u001b[38;5;28;43;01mFalse\u001b[39;49;00m\u001b[43m,\u001b[49m\u001b[43m \u001b[49m\u001b[43mtimeout\u001b[49m\u001b[43m=\u001b[49m\u001b[32;43m60\u001b[39;49m\u001b[43m)\u001b[49m\n",
      "\u001b[36mFile \u001b[39m\u001b[32mc:\\Potenup\\DeepLearning-Study\\src\\bing_image_downloader\\bing_image_downloader\\downloader.py:35\u001b[39m, in \u001b[36mdownload\u001b[39m\u001b[34m(query, limit, output_dir, adult_filter_off, force_replace, timeout)\u001b[39m\n\u001b[32m     32\u001b[39m     os.makedirs(\u001b[33m\"\u001b[39m\u001b[38;5;132;01m{}\u001b[39;00m\u001b[33m/\u001b[39m\u001b[38;5;132;01m{}\u001b[39;00m\u001b[33m/\u001b[39m\u001b[38;5;132;01m{}\u001b[39;00m\u001b[33m\"\u001b[39m.format(cwd, output_dir, query))\n\u001b[32m     34\u001b[39m bing = Bing(query, limit, output_dir, adult, timeout)\n\u001b[32m---> \u001b[39m\u001b[32m35\u001b[39m \u001b[43mbing\u001b[49m\u001b[43m.\u001b[49m\u001b[43mrun\u001b[49m\u001b[43m(\u001b[49m\u001b[43m)\u001b[49m\n",
      "\u001b[36mFile \u001b[39m\u001b[32mc:\\Potenup\\DeepLearning-Study\\src\\bing_image_downloader\\bing_image_downloader\\bing.py:79\u001b[39m, in \u001b[36mBing.run\u001b[39m\u001b[34m(self)\u001b[39m\n\u001b[32m     77\u001b[39m \u001b[38;5;28;01mfor\u001b[39;00m link \u001b[38;5;129;01min\u001b[39;00m links:\n\u001b[32m     78\u001b[39m     \u001b[38;5;28;01mif\u001b[39;00m \u001b[38;5;28mself\u001b[39m.download_count < \u001b[38;5;28mself\u001b[39m.limit:\n\u001b[32m---> \u001b[39m\u001b[32m79\u001b[39m         \u001b[38;5;28;43mself\u001b[39;49m\u001b[43m.\u001b[49m\u001b[43mdownload_image\u001b[49m\u001b[43m(\u001b[49m\u001b[43mlink\u001b[49m\u001b[43m)\u001b[49m\n\u001b[32m     80\u001b[39m     \u001b[38;5;28;01melse\u001b[39;00m:\n\u001b[32m     81\u001b[39m         \u001b[38;5;28mprint\u001b[39m(\u001b[33m\"\u001b[39m\u001b[33m===============================================\u001b[39m\u001b[33m\"\u001b[39m)\n",
      "\u001b[36mFile \u001b[39m\u001b[32mc:\\Potenup\\DeepLearning-Study\\src\\bing_image_downloader\\bing_image_downloader\\bing.py:55\u001b[39m, in \u001b[36mBing.download_image\u001b[39m\u001b[34m(self, link)\u001b[39m\n\u001b[32m     52\u001b[39m     \u001b[38;5;66;03m# Download the image\u001b[39;00m\n\u001b[32m     53\u001b[39m     \u001b[38;5;28mprint\u001b[39m(\u001b[33m\"\u001b[39m\u001b[33m#\u001b[39m\u001b[38;5;132;01m{}\u001b[39;00m\u001b[33m 이미지 다운로드 (\u001b[39m\u001b[38;5;132;01m{}\u001b[39;00m\u001b[33m)\u001b[39m\u001b[33m\"\u001b[39m.format(\u001b[38;5;28mself\u001b[39m.download_count, link))\n\u001b[32m---> \u001b[39m\u001b[32m55\u001b[39m     \u001b[38;5;28;43mself\u001b[39;49m\u001b[43m.\u001b[49m\u001b[43msave_image\u001b[49m\u001b[43m(\u001b[49m\u001b[43mlink\u001b[49m\u001b[43m,\u001b[49m\u001b[43m \u001b[49m\u001b[33;43m\"\u001b[39;49m\u001b[38;5;132;43;01m{}\u001b[39;49;00m\u001b[33;43m/\u001b[39;49m\u001b[38;5;132;43;01m{}\u001b[39;49;00m\u001b[33;43m/\u001b[39;49m\u001b[38;5;132;43;01m{}\u001b[39;49;00m\u001b[33;43m/\u001b[39;49m\u001b[33;43m\"\u001b[39;49m\u001b[43m.\u001b[49m\u001b[43mformat\u001b[49m\u001b[43m(\u001b[49m\u001b[43mos\u001b[49m\u001b[43m.\u001b[49m\u001b[43mgetcwd\u001b[49m\u001b[43m(\u001b[49m\u001b[43m)\u001b[49m\u001b[43m,\u001b[49m\u001b[43m \u001b[49m\u001b[38;5;28;43mself\u001b[39;49m\u001b[43m.\u001b[49m\u001b[43moutput_dir\u001b[49m\u001b[43m,\u001b[49m\u001b[43m \u001b[49m\u001b[38;5;28;43mself\u001b[39;49m\u001b[43m.\u001b[49m\u001b[43mquery\u001b[49m\u001b[43m)\u001b[49m\u001b[43m \u001b[49m\u001b[43m+\u001b[49m\u001b[43m \u001b[49m\u001b[33;43m\"\u001b[39;49m\u001b[33;43mimage_\u001b[39;49m\u001b[38;5;132;43;01m{}\u001b[39;49;00m\u001b[33;43m.\u001b[39;49m\u001b[38;5;132;43;01m{}\u001b[39;49;00m\u001b[33;43m\"\u001b[39;49m\u001b[43m.\u001b[49m\u001b[43mformat\u001b[49m\u001b[43m(\u001b[49m\n\u001b[32m     56\u001b[39m \u001b[43m        \u001b[49m\u001b[38;5;28;43mstr\u001b[39;49m\u001b[43m(\u001b[49m\u001b[38;5;28;43mself\u001b[39;49m\u001b[43m.\u001b[49m\u001b[43mdownload_count\u001b[49m\u001b[43m)\u001b[49m\u001b[43m,\u001b[49m\u001b[43m \u001b[49m\u001b[43mfile_type\u001b[49m\u001b[43m)\u001b[49m\u001b[43m)\u001b[49m\n\u001b[32m     57\u001b[39m     \u001b[38;5;28mprint\u001b[39m(\u001b[33m\"\u001b[39m\u001b[33m#\u001b[39m\u001b[38;5;132;01m{}\u001b[39;00m\u001b[33m 파일 다운로드가 완료되었습니다.\u001b[39m\u001b[33m\"\u001b[39m.format(\u001b[38;5;28mself\u001b[39m.download_count))\n\u001b[32m     58\u001b[39m \u001b[38;5;28;01mexcept\u001b[39;00m \u001b[38;5;167;01mException\u001b[39;00m \u001b[38;5;28;01mas\u001b[39;00m e:\n",
      "\u001b[36mFile \u001b[39m\u001b[32mc:\\Potenup\\DeepLearning-Study\\src\\bing_image_downloader\\bing_image_downloader\\bing.py:34\u001b[39m, in \u001b[36mBing.save_image\u001b[39m\u001b[34m(self, link, file_path)\u001b[39m\n\u001b[32m     32\u001b[39m \u001b[38;5;28;01mdef\u001b[39;00m\u001b[38;5;250m \u001b[39m\u001b[34msave_image\u001b[39m(\u001b[38;5;28mself\u001b[39m, link, file_path):\n\u001b[32m     33\u001b[39m     request = urllib.request.Request(link, \u001b[38;5;28;01mNone\u001b[39;00m, \u001b[38;5;28mself\u001b[39m.headers)\n\u001b[32m---> \u001b[39m\u001b[32m34\u001b[39m     image = \u001b[43murllib\u001b[49m\u001b[43m.\u001b[49m\u001b[43mrequest\u001b[49m\u001b[43m.\u001b[49m\u001b[43murlopen\u001b[49m\u001b[43m(\u001b[49m\u001b[43mrequest\u001b[49m\u001b[43m,\u001b[49m\u001b[43m \u001b[49m\u001b[43mtimeout\u001b[49m\u001b[43m=\u001b[49m\u001b[38;5;28;43mself\u001b[39;49m\u001b[43m.\u001b[49m\u001b[43mtimeout\u001b[49m\u001b[43m)\u001b[49m.read()\n\u001b[32m     35\u001b[39m     \u001b[38;5;28;01mif\u001b[39;00m \u001b[38;5;129;01mnot\u001b[39;00m imghdr.what(\u001b[38;5;28;01mNone\u001b[39;00m, image):\n\u001b[32m     36\u001b[39m         \u001b[38;5;28mprint\u001b[39m(\u001b[33m'\u001b[39m\u001b[33m[Error] Invalid image, not saving \u001b[39m\u001b[38;5;132;01m{}\u001b[39;00m\u001b[33m'\u001b[39m.format(link))\n",
      "\u001b[36mFile \u001b[39m\u001b[32m~\\AppData\\Roaming\\uv\\python\\cpython-3.11.13-windows-x86_64-none\\Lib\\urllib\\request.py:216\u001b[39m, in \u001b[36murlopen\u001b[39m\u001b[34m(url, data, timeout, cafile, capath, cadefault, context)\u001b[39m\n\u001b[32m    214\u001b[39m \u001b[38;5;28;01melse\u001b[39;00m:\n\u001b[32m    215\u001b[39m     opener = _opener\n\u001b[32m--> \u001b[39m\u001b[32m216\u001b[39m \u001b[38;5;28;01mreturn\u001b[39;00m \u001b[43mopener\u001b[49m\u001b[43m.\u001b[49m\u001b[43mopen\u001b[49m\u001b[43m(\u001b[49m\u001b[43murl\u001b[49m\u001b[43m,\u001b[49m\u001b[43m \u001b[49m\u001b[43mdata\u001b[49m\u001b[43m,\u001b[49m\u001b[43m \u001b[49m\u001b[43mtimeout\u001b[49m\u001b[43m)\u001b[49m\n",
      "\u001b[36mFile \u001b[39m\u001b[32m~\\AppData\\Roaming\\uv\\python\\cpython-3.11.13-windows-x86_64-none\\Lib\\urllib\\request.py:519\u001b[39m, in \u001b[36mOpenerDirector.open\u001b[39m\u001b[34m(self, fullurl, data, timeout)\u001b[39m\n\u001b[32m    516\u001b[39m     req = meth(req)\n\u001b[32m    518\u001b[39m sys.audit(\u001b[33m'\u001b[39m\u001b[33murllib.Request\u001b[39m\u001b[33m'\u001b[39m, req.full_url, req.data, req.headers, req.get_method())\n\u001b[32m--> \u001b[39m\u001b[32m519\u001b[39m response = \u001b[38;5;28;43mself\u001b[39;49m\u001b[43m.\u001b[49m\u001b[43m_open\u001b[49m\u001b[43m(\u001b[49m\u001b[43mreq\u001b[49m\u001b[43m,\u001b[49m\u001b[43m \u001b[49m\u001b[43mdata\u001b[49m\u001b[43m)\u001b[49m\n\u001b[32m    521\u001b[39m \u001b[38;5;66;03m# post-process response\u001b[39;00m\n\u001b[32m    522\u001b[39m meth_name = protocol+\u001b[33m\"\u001b[39m\u001b[33m_response\u001b[39m\u001b[33m\"\u001b[39m\n",
      "\u001b[36mFile \u001b[39m\u001b[32m~\\AppData\\Roaming\\uv\\python\\cpython-3.11.13-windows-x86_64-none\\Lib\\urllib\\request.py:536\u001b[39m, in \u001b[36mOpenerDirector._open\u001b[39m\u001b[34m(self, req, data)\u001b[39m\n\u001b[32m    533\u001b[39m     \u001b[38;5;28;01mreturn\u001b[39;00m result\n\u001b[32m    535\u001b[39m protocol = req.type\n\u001b[32m--> \u001b[39m\u001b[32m536\u001b[39m result = \u001b[38;5;28;43mself\u001b[39;49m\u001b[43m.\u001b[49m\u001b[43m_call_chain\u001b[49m\u001b[43m(\u001b[49m\u001b[38;5;28;43mself\u001b[39;49m\u001b[43m.\u001b[49m\u001b[43mhandle_open\u001b[49m\u001b[43m,\u001b[49m\u001b[43m \u001b[49m\u001b[43mprotocol\u001b[49m\u001b[43m,\u001b[49m\u001b[43m \u001b[49m\u001b[43mprotocol\u001b[49m\u001b[43m \u001b[49m\u001b[43m+\u001b[49m\n\u001b[32m    537\u001b[39m \u001b[43m                          \u001b[49m\u001b[33;43m'\u001b[39;49m\u001b[33;43m_open\u001b[39;49m\u001b[33;43m'\u001b[39;49m\u001b[43m,\u001b[49m\u001b[43m \u001b[49m\u001b[43mreq\u001b[49m\u001b[43m)\u001b[49m\n\u001b[32m    538\u001b[39m \u001b[38;5;28;01mif\u001b[39;00m result:\n\u001b[32m    539\u001b[39m     \u001b[38;5;28;01mreturn\u001b[39;00m result\n",
      "\u001b[36mFile \u001b[39m\u001b[32m~\\AppData\\Roaming\\uv\\python\\cpython-3.11.13-windows-x86_64-none\\Lib\\urllib\\request.py:496\u001b[39m, in \u001b[36mOpenerDirector._call_chain\u001b[39m\u001b[34m(self, chain, kind, meth_name, *args)\u001b[39m\n\u001b[32m    494\u001b[39m \u001b[38;5;28;01mfor\u001b[39;00m handler \u001b[38;5;129;01min\u001b[39;00m handlers:\n\u001b[32m    495\u001b[39m     func = \u001b[38;5;28mgetattr\u001b[39m(handler, meth_name)\n\u001b[32m--> \u001b[39m\u001b[32m496\u001b[39m     result = \u001b[43mfunc\u001b[49m\u001b[43m(\u001b[49m\u001b[43m*\u001b[49m\u001b[43margs\u001b[49m\u001b[43m)\u001b[49m\n\u001b[32m    497\u001b[39m     \u001b[38;5;28;01mif\u001b[39;00m result \u001b[38;5;129;01mis\u001b[39;00m \u001b[38;5;129;01mnot\u001b[39;00m \u001b[38;5;28;01mNone\u001b[39;00m:\n\u001b[32m    498\u001b[39m         \u001b[38;5;28;01mreturn\u001b[39;00m result\n",
      "\u001b[36mFile \u001b[39m\u001b[32m~\\AppData\\Roaming\\uv\\python\\cpython-3.11.13-windows-x86_64-none\\Lib\\urllib\\request.py:1391\u001b[39m, in \u001b[36mHTTPSHandler.https_open\u001b[39m\u001b[34m(self, req)\u001b[39m\n\u001b[32m   1390\u001b[39m \u001b[38;5;28;01mdef\u001b[39;00m\u001b[38;5;250m \u001b[39m\u001b[34mhttps_open\u001b[39m(\u001b[38;5;28mself\u001b[39m, req):\n\u001b[32m-> \u001b[39m\u001b[32m1391\u001b[39m     \u001b[38;5;28;01mreturn\u001b[39;00m \u001b[38;5;28;43mself\u001b[39;49m\u001b[43m.\u001b[49m\u001b[43mdo_open\u001b[49m\u001b[43m(\u001b[49m\u001b[43mhttp\u001b[49m\u001b[43m.\u001b[49m\u001b[43mclient\u001b[49m\u001b[43m.\u001b[49m\u001b[43mHTTPSConnection\u001b[49m\u001b[43m,\u001b[49m\u001b[43m \u001b[49m\u001b[43mreq\u001b[49m\u001b[43m,\u001b[49m\n\u001b[32m   1392\u001b[39m \u001b[43m        \u001b[49m\u001b[43mcontext\u001b[49m\u001b[43m=\u001b[49m\u001b[38;5;28;43mself\u001b[39;49m\u001b[43m.\u001b[49m\u001b[43m_context\u001b[49m\u001b[43m,\u001b[49m\u001b[43m \u001b[49m\u001b[43mcheck_hostname\u001b[49m\u001b[43m=\u001b[49m\u001b[38;5;28;43mself\u001b[39;49m\u001b[43m.\u001b[49m\u001b[43m_check_hostname\u001b[49m\u001b[43m)\u001b[49m\n",
      "\u001b[36mFile \u001b[39m\u001b[32m~\\AppData\\Roaming\\uv\\python\\cpython-3.11.13-windows-x86_64-none\\Lib\\urllib\\request.py:1317\u001b[39m, in \u001b[36mAbstractHTTPHandler.do_open\u001b[39m\u001b[34m(self, http_class, req, **http_conn_args)\u001b[39m\n\u001b[32m   1314\u001b[39m     \u001b[38;5;28;01mraise\u001b[39;00m URLError(\u001b[33m'\u001b[39m\u001b[33mno host given\u001b[39m\u001b[33m'\u001b[39m)\n\u001b[32m   1316\u001b[39m \u001b[38;5;66;03m# will parse host:port\u001b[39;00m\n\u001b[32m-> \u001b[39m\u001b[32m1317\u001b[39m h = \u001b[43mhttp_class\u001b[49m\u001b[43m(\u001b[49m\u001b[43mhost\u001b[49m\u001b[43m,\u001b[49m\u001b[43m \u001b[49m\u001b[43mtimeout\u001b[49m\u001b[43m=\u001b[49m\u001b[43mreq\u001b[49m\u001b[43m.\u001b[49m\u001b[43mtimeout\u001b[49m\u001b[43m,\u001b[49m\u001b[43m \u001b[49m\u001b[43m*\u001b[49m\u001b[43m*\u001b[49m\u001b[43mhttp_conn_args\u001b[49m\u001b[43m)\u001b[49m\n\u001b[32m   1318\u001b[39m h.set_debuglevel(\u001b[38;5;28mself\u001b[39m._debuglevel)\n\u001b[32m   1320\u001b[39m headers = \u001b[38;5;28mdict\u001b[39m(req.unredirected_hdrs)\n",
      "\u001b[36mFile \u001b[39m\u001b[32m~\\AppData\\Roaming\\uv\\python\\cpython-3.11.13-windows-x86_64-none\\Lib\\http\\client.py:1442\u001b[39m, in \u001b[36mHTTPSConnection.__init__\u001b[39m\u001b[34m(self, host, port, key_file, cert_file, timeout, source_address, context, check_hostname, blocksize)\u001b[39m\n\u001b[32m   1440\u001b[39m \u001b[38;5;28mself\u001b[39m.cert_file = cert_file\n\u001b[32m   1441\u001b[39m \u001b[38;5;28;01mif\u001b[39;00m context \u001b[38;5;129;01mis\u001b[39;00m \u001b[38;5;28;01mNone\u001b[39;00m:\n\u001b[32m-> \u001b[39m\u001b[32m1442\u001b[39m     context = \u001b[43mssl\u001b[49m\u001b[43m.\u001b[49m\u001b[43m_create_default_https_context\u001b[49m\u001b[43m(\u001b[49m\u001b[43m)\u001b[49m\n\u001b[32m   1443\u001b[39m     \u001b[38;5;66;03m# send ALPN extension to indicate HTTP/1.1 protocol\u001b[39;00m\n\u001b[32m   1444\u001b[39m     \u001b[38;5;28;01mif\u001b[39;00m \u001b[38;5;28mself\u001b[39m._http_vsn == \u001b[32m11\u001b[39m:\n",
      "\u001b[36mFile \u001b[39m\u001b[32m~\\AppData\\Roaming\\uv\\python\\cpython-3.11.13-windows-x86_64-none\\Lib\\ssl.py:775\u001b[39m, in \u001b[36mcreate_default_context\u001b[39m\u001b[34m(purpose, cafile, capath, cadata)\u001b[39m\n\u001b[32m    770\u001b[39m     context.load_verify_locations(cafile, capath, cadata)\n\u001b[32m    771\u001b[39m \u001b[38;5;28;01melif\u001b[39;00m context.verify_mode != CERT_NONE:\n\u001b[32m    772\u001b[39m     \u001b[38;5;66;03m# no explicit cafile, capath or cadata but the verify mode is\u001b[39;00m\n\u001b[32m    773\u001b[39m     \u001b[38;5;66;03m# CERT_OPTIONAL or CERT_REQUIRED. Let's try to load default system\u001b[39;00m\n\u001b[32m    774\u001b[39m     \u001b[38;5;66;03m# root CA certificates for the given purpose. This may fail silently.\u001b[39;00m\n\u001b[32m--> \u001b[39m\u001b[32m775\u001b[39m     \u001b[43mcontext\u001b[49m\u001b[43m.\u001b[49m\u001b[43mload_default_certs\u001b[49m\u001b[43m(\u001b[49m\u001b[43mpurpose\u001b[49m\u001b[43m)\u001b[49m\n\u001b[32m    776\u001b[39m \u001b[38;5;66;03m# OpenSSL 1.1.1 keylog file\u001b[39;00m\n\u001b[32m    777\u001b[39m \u001b[38;5;28;01mif\u001b[39;00m \u001b[38;5;28mhasattr\u001b[39m(context, \u001b[33m'\u001b[39m\u001b[33mkeylog_filename\u001b[39m\u001b[33m'\u001b[39m):\n",
      "\u001b[36mFile \u001b[39m\u001b[32m~\\AppData\\Roaming\\uv\\python\\cpython-3.11.13-windows-x86_64-none\\Lib\\ssl.py:596\u001b[39m, in \u001b[36mSSLContext.load_default_certs\u001b[39m\u001b[34m(self, purpose)\u001b[39m\n\u001b[32m    594\u001b[39m \u001b[38;5;28;01mif\u001b[39;00m sys.platform == \u001b[33m\"\u001b[39m\u001b[33mwin32\u001b[39m\u001b[33m\"\u001b[39m:\n\u001b[32m    595\u001b[39m     \u001b[38;5;28;01mfor\u001b[39;00m storename \u001b[38;5;129;01min\u001b[39;00m \u001b[38;5;28mself\u001b[39m._windows_cert_stores:\n\u001b[32m--> \u001b[39m\u001b[32m596\u001b[39m         \u001b[38;5;28mself\u001b[39m._load_windows_store_certs(storename, purpose)\n\u001b[32m    597\u001b[39m \u001b[38;5;28mself\u001b[39m.set_default_verify_paths()\n",
      "\u001b[31mKeyboardInterrupt\u001b[39m: "
     ]
    }
   ],
   "source": [
    "from bing_image_downloader.bing_image_downloader import downloader\n",
    "\n",
    "for query in query_list:\n",
    "    downloader.download(query=query, limit=50, output_dir='dataset_celebirity/', adult_filter_off=True, force_replace=False, timeout=60)"
   ]
  },
  {
   "cell_type": "code",
   "execution_count": null,
   "id": "2bca0a9f",
   "metadata": {},
   "outputs": [
    {
     "data": {
      "text/plain": [
       "['image_1.jpg',\n",
       " 'image_10.jpg',\n",
       " 'image_11.jpeg',\n",
       " 'image_12.jpg',\n",
       " 'image_13.jpg',\n",
       " 'image_14.jpg',\n",
       " 'image_15.jpg',\n",
       " 'image_16.jpg',\n",
       " 'image_17.jpeg',\n",
       " 'image_18.jpg',\n",
       " 'image_19.jpg',\n",
       " 'image_2.jpg',\n",
       " 'image_20.jpg',\n",
       " 'image_21.jpg',\n",
       " 'image_22.jpg',\n",
       " 'image_23.jpg',\n",
       " 'image_24.jpg',\n",
       " 'image_25.jpg',\n",
       " 'image_26.jpg',\n",
       " 'image_27.jpg',\n",
       " 'image_28.jpeg',\n",
       " 'image_29.jpg',\n",
       " 'image_3.jpg',\n",
       " 'image_30.png',\n",
       " 'image_31.jpg',\n",
       " 'image_32.jpg',\n",
       " 'image_33.jpg',\n",
       " 'image_34.jpg',\n",
       " 'image_35.jpg',\n",
       " 'image_36.jpg',\n",
       " 'image_37.jpg',\n",
       " 'image_38.jpg',\n",
       " 'image_39.jpg',\n",
       " 'image_4.jpg',\n",
       " 'image_40.jpg',\n",
       " 'image_41.jpg',\n",
       " 'image_42.jpg',\n",
       " 'image_43.jpeg',\n",
       " 'image_44.jpg',\n",
       " 'image_45.jpg',\n",
       " 'image_46.jpg',\n",
       " 'image_47.jpg',\n",
       " 'image_48.jpeg',\n",
       " 'image_49.jpg',\n",
       " 'image_5.jpg',\n",
       " 'image_50.jpg',\n",
       " 'image_6.jpg',\n",
       " 'image_7.jpg',\n",
       " 'image_8.jpg',\n",
       " 'image_9.jpg']"
      ]
     },
     "execution_count": 5,
     "metadata": {},
     "output_type": "execute_result"
    }
   ],
   "source": [
    "os.listdir('dataset_celebirity/카리나')"
   ]
  },
  {
   "cell_type": "code",
   "execution_count": 35,
   "id": "dee6681f",
   "metadata": {},
   "outputs": [],
   "source": [
    "def dataset_split(query, test_size, in_dir, train_dir, test_dir): # 카리나, 30\n",
    "    for dir in [train_dir, test_dir]:\n",
    "        if not os.path.isdir(dir + \"/\" + query):\n",
    "            os.makedirs(dir + \"/\" + query)\n",
    "    \n",
    "    query_dir = in_dir + \"/\" + query\n",
    "    files = os.listdir(query_dir)\n",
    "\n",
    "    cnt = 0\n",
    "    test_max_count = len(files) * test_size\n",
    "    for file_name in files:\n",
    "        cur_file_dir = query_dir + \"/\" + file_name\n",
    "        train_file_dir = train_dir + \"/\" + query + \"/\" + file_name\n",
    "        test_file_dir = test_dir + \"/\" + query + \"/\" + file_name\n",
    "\n",
    "        if cnt < test_max_count:\n",
    "            shutil.move(cur_file_dir, train_file_dir)\n",
    "        else:\n",
    "            shutil.move(cur_file_dir, test_file_dir)\n",
    "        \n",
    "        cnt += 1\n",
    "    \n",
    "    if os.path.exists(query_dir):\n",
    "        shutil.rmtree(query_dir)"
   ]
  },
  {
   "cell_type": "code",
   "execution_count": null,
   "id": "03852047",
   "metadata": {},
   "outputs": [],
   "source": [
    "for query in query_list:\n",
    "    dataset_split(query, 0.2, \"dataset_celebirity\", \"dataset_celebirity/train\", \"dataset_celebirity/test\")"
   ]
  },
  {
   "cell_type": "code",
   "execution_count": 1,
   "id": "c4ef85b5",
   "metadata": {},
   "outputs": [],
   "source": [
    "import matplotlib.pyplot as plt\n",
    "\n",
    "import torch\n",
    "import torch.nn as nn\n",
    "import torch.nn.functional as F\n",
    "from torch.optim import Adam\n",
    "\n",
    "from torchvision.transforms import transforms\n",
    "from torch.utils.data.dataloader import DataLoader\n",
    "\n",
    "import torchvision\n",
    "from torchvision import datasets\n",
    "from torchvision.transforms import Compose\n",
    "from torchvision.transforms import RandomCrop, RandomHorizontalFlip, Normalize\n",
    "import torchvision.transforms as T\n",
    "\n",
    "from tensorboardX import SummaryWriter\n",
    "writer = SummaryWriter()\n",
    "\n",
    "from torchvision import models"
   ]
  }
 ],
 "metadata": {
  "kernelspec": {
   "display_name": "DeepLearning-Study (3.11.13)",
   "language": "python",
   "name": "python3"
  },
  "language_info": {
   "codemirror_mode": {
    "name": "ipython",
    "version": 3
   },
   "file_extension": ".py",
   "mimetype": "text/x-python",
   "name": "python",
   "nbconvert_exporter": "python",
   "pygments_lexer": "ipython3",
   "version": "3.11.13"
  }
 },
 "nbformat": 4,
 "nbformat_minor": 5
}
