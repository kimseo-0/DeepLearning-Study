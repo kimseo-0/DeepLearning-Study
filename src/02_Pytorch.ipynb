{
 "cells": [
  {
   "cell_type": "code",
   "execution_count": 3,
   "id": "874cfee8",
   "metadata": {},
   "outputs": [
    {
     "data": {
      "text/plain": [
       "True"
      ]
     },
     "execution_count": 3,
     "metadata": {},
     "output_type": "execute_result"
    }
   ],
   "source": [
    "import torch\n",
    "\n",
    "torch.cuda.is_available()"
   ]
  },
  {
   "cell_type": "markdown",
   "id": "a910ec39",
   "metadata": {},
   "source": [
    "# 버전 확인"
   ]
  },
  {
   "cell_type": "code",
   "execution_count": 4,
   "id": "8f3f3f5b",
   "metadata": {},
   "outputs": [
    {
     "data": {
      "text/plain": [
       "'2.8.0+cu126'"
      ]
     },
     "execution_count": 4,
     "metadata": {},
     "output_type": "execute_result"
    }
   ],
   "source": [
    "torch.__version__"
   ]
  },
  {
   "cell_type": "markdown",
   "id": "d1609634",
   "metadata": {},
   "source": [
    "# tensor 데이터 생성"
   ]
  },
  {
   "cell_type": "code",
   "execution_count": 5,
   "id": "1b443f04",
   "metadata": {},
   "outputs": [
    {
     "data": {
      "text/plain": [
       "tensor(5)"
      ]
     },
     "execution_count": 5,
     "metadata": {},
     "output_type": "execute_result"
    }
   ],
   "source": [
    "torch.tensor(5)"
   ]
  },
  {
   "cell_type": "code",
   "execution_count": 6,
   "id": "81d5e70a",
   "metadata": {},
   "outputs": [
    {
     "data": {
      "text/plain": [
       "tensor([1, 2, 3])"
      ]
     },
     "execution_count": 6,
     "metadata": {},
     "output_type": "execute_result"
    }
   ],
   "source": [
    "torch.tensor([1, 2, 3])"
   ]
  },
  {
   "cell_type": "code",
   "execution_count": 7,
   "id": "c49cb0be",
   "metadata": {},
   "outputs": [
    {
     "data": {
      "text/plain": [
       "tensor([[1, 2, 3],\n",
       "        [4, 5, 6]])"
      ]
     },
     "execution_count": 7,
     "metadata": {},
     "output_type": "execute_result"
    }
   ],
   "source": [
    "torch.tensor([[1, 2, 3], [4, 5, 6]])"
   ]
  },
  {
   "cell_type": "code",
   "execution_count": 8,
   "id": "c7076a1f",
   "metadata": {},
   "outputs": [
    {
     "data": {
      "text/plain": [
       "tensor([1, 2, 3, 4, 5])"
      ]
     },
     "execution_count": 8,
     "metadata": {},
     "output_type": "execute_result"
    }
   ],
   "source": [
    "data = [1,2, 3, 4, 5]\n",
    "torch.tensor(data)"
   ]
  },
  {
   "cell_type": "code",
   "execution_count": 9,
   "id": "658793e5",
   "metadata": {},
   "outputs": [
    {
     "data": {
      "text/plain": [
       "tensor([1, 2, 3, 4, 5])"
      ]
     },
     "execution_count": 9,
     "metadata": {},
     "output_type": "execute_result"
    }
   ],
   "source": [
    "import numpy as np\n",
    "data = np.array([1,2,3,4,5])\n",
    "torch.tensor(data)"
   ]
  },
  {
   "cell_type": "code",
   "execution_count": 10,
   "id": "d05fb18e",
   "metadata": {},
   "outputs": [
    {
     "data": {
      "text/plain": [
       "tensor([1., 1., 1.])"
      ]
     },
     "execution_count": 10,
     "metadata": {},
     "output_type": "execute_result"
    }
   ],
   "source": [
    "torch.ones(3)"
   ]
  },
  {
   "cell_type": "code",
   "execution_count": 11,
   "id": "90daf33e",
   "metadata": {},
   "outputs": [
    {
     "data": {
      "text/plain": [
       "tensor([[1., 1.],\n",
       "        [1., 1.]])"
      ]
     },
     "execution_count": 11,
     "metadata": {},
     "output_type": "execute_result"
    }
   ],
   "source": [
    "torch.ones((2, 2))"
   ]
  },
  {
   "cell_type": "code",
   "execution_count": 12,
   "id": "b147ac19",
   "metadata": {},
   "outputs": [
    {
     "data": {
      "text/plain": [
       "tensor([[1., 1., 1.,  ..., 1., 1., 1.],\n",
       "        [1., 1., 1.,  ..., 1., 1., 1.],\n",
       "        [1., 1., 1.,  ..., 1., 1., 1.],\n",
       "        ...,\n",
       "        [1., 1., 1.,  ..., 1., 1., 1.],\n",
       "        [1., 1., 1.,  ..., 1., 1., 1.],\n",
       "        [1., 1., 1.,  ..., 1., 1., 1.]])"
      ]
     },
     "execution_count": 12,
     "metadata": {},
     "output_type": "execute_result"
    }
   ],
   "source": [
    "torch.ones((512, 512)) # 이미지 흰색"
   ]
  },
  {
   "cell_type": "code",
   "execution_count": 13,
   "id": "8272e977",
   "metadata": {},
   "outputs": [
    {
     "data": {
      "text/plain": [
       "tensor([[0., 0., 0.,  ..., 0., 0., 0.],\n",
       "        [0., 0., 0.,  ..., 0., 0., 0.],\n",
       "        [0., 0., 0.,  ..., 0., 0., 0.],\n",
       "        ...,\n",
       "        [0., 0., 0.,  ..., 0., 0., 0.],\n",
       "        [0., 0., 0.,  ..., 0., 0., 0.],\n",
       "        [0., 0., 0.,  ..., 0., 0., 0.]])"
      ]
     },
     "execution_count": 13,
     "metadata": {},
     "output_type": "execute_result"
    }
   ],
   "source": [
    "torch.zeros((512, 512)) # 이미지 검정색"
   ]
  },
  {
   "cell_type": "code",
   "execution_count": 14,
   "id": "99fa9f38",
   "metadata": {},
   "outputs": [
    {
     "data": {
      "text/plain": [
       "tensor([[1., 0., 0., 0., 0.],\n",
       "        [0., 1., 0., 0., 0.],\n",
       "        [0., 0., 1., 0., 0.],\n",
       "        [0., 0., 0., 1., 0.],\n",
       "        [0., 0., 0., 0., 1.]])"
      ]
     },
     "execution_count": 14,
     "metadata": {},
     "output_type": "execute_result"
    }
   ],
   "source": [
    "torch.eye(5) # 단위 행렬"
   ]
  },
  {
   "cell_type": "code",
   "execution_count": 15,
   "id": "4bfbb684",
   "metadata": {},
   "outputs": [
    {
     "data": {
      "text/plain": [
       "tensor([1, 2, 3, 4, 5, 6, 7, 8, 9])"
      ]
     },
     "execution_count": 15,
     "metadata": {},
     "output_type": "execute_result"
    }
   ],
   "source": [
    "torch.arange(1, 10)"
   ]
  },
  {
   "cell_type": "code",
   "execution_count": 16,
   "id": "b8645b38",
   "metadata": {},
   "outputs": [
    {
     "data": {
      "text/plain": [
       "tensor([1, 3, 5, 7, 9])"
      ]
     },
     "execution_count": 16,
     "metadata": {},
     "output_type": "execute_result"
    }
   ],
   "source": [
    "torch.arange(1, 10, 2)"
   ]
  },
  {
   "cell_type": "code",
   "execution_count": 17,
   "id": "4e056b35",
   "metadata": {},
   "outputs": [
    {
     "data": {
      "text/plain": [
       "tensor([0.7007, 0.5700, 0.9268, 0.3306, 0.2668])"
      ]
     },
     "execution_count": 17,
     "metadata": {},
     "output_type": "execute_result"
    }
   ],
   "source": [
    "torch.rand(5)"
   ]
  },
  {
   "cell_type": "markdown",
   "id": "29952859",
   "metadata": {},
   "source": [
    "# tensor 차원 변경"
   ]
  },
  {
   "cell_type": "code",
   "execution_count": 18,
   "id": "c294ad0c",
   "metadata": {},
   "outputs": [
    {
     "data": {
      "text/plain": [
       "tensor([[[0.9054, 0.6069, 0.7107],\n",
       "         [0.3082, 0.7712, 0.4765],\n",
       "         [0.7245, 0.3763, 0.3814]],\n",
       "\n",
       "        [[0.9966, 0.2781, 0.7850],\n",
       "         [0.6615, 0.3447, 0.3785],\n",
       "         [0.4121, 0.1556, 0.9162]],\n",
       "\n",
       "        [[0.4732, 0.0150, 0.5975],\n",
       "         [0.7355, 0.7278, 0.5817],\n",
       "         [0.3785, 0.9067, 0.4407]]])"
      ]
     },
     "execution_count": 18,
     "metadata": {},
     "output_type": "execute_result"
    }
   ],
   "source": [
    "data = torch.rand(3, 3, 3)\n",
    "data"
   ]
  },
  {
   "cell_type": "code",
   "execution_count": 19,
   "id": "d821b6ee",
   "metadata": {},
   "outputs": [
    {
     "data": {
      "text/plain": [
       "tensor([[0.9054, 0.6069, 0.7107],\n",
       "        [0.3082, 0.7712, 0.4765],\n",
       "        [0.7245, 0.3763, 0.3814],\n",
       "        [0.9966, 0.2781, 0.7850],\n",
       "        [0.6615, 0.3447, 0.3785],\n",
       "        [0.4121, 0.1556, 0.9162],\n",
       "        [0.4732, 0.0150, 0.5975],\n",
       "        [0.7355, 0.7278, 0.5817],\n",
       "        [0.3785, 0.9067, 0.4407]])"
      ]
     },
     "execution_count": 19,
     "metadata": {},
     "output_type": "execute_result"
    }
   ],
   "source": [
    "data.view((9, 3))"
   ]
  },
  {
   "cell_type": "code",
   "execution_count": 20,
   "id": "ac4632c6",
   "metadata": {},
   "outputs": [
    {
     "data": {
      "text/plain": [
       "tensor([0.9054, 0.6069, 0.7107, 0.3082, 0.7712, 0.4765, 0.7245, 0.3763, 0.3814,\n",
       "        0.9966, 0.2781, 0.7850, 0.6615, 0.3447, 0.3785, 0.4121, 0.1556, 0.9162,\n",
       "        0.4732, 0.0150, 0.5975, 0.7355, 0.7278, 0.5817, 0.3785, 0.9067, 0.4407])"
      ]
     },
     "execution_count": 20,
     "metadata": {},
     "output_type": "execute_result"
    }
   ],
   "source": [
    "data.view(27) # 1차원으로 flatten"
   ]
  },
  {
   "cell_type": "code",
   "execution_count": 21,
   "id": "4f5376a2",
   "metadata": {},
   "outputs": [
    {
     "data": {
      "text/plain": [
       "tensor([0.9054, 0.6069, 0.7107, 0.3082, 0.7712, 0.4765, 0.7245, 0.3763, 0.3814,\n",
       "        0.9966, 0.2781, 0.7850, 0.6615, 0.3447, 0.3785, 0.4121, 0.1556, 0.9162,\n",
       "        0.4732, 0.0150, 0.5975, 0.7355, 0.7278, 0.5817, 0.3785, 0.9067, 0.4407])"
      ]
     },
     "execution_count": 21,
     "metadata": {},
     "output_type": "execute_result"
    }
   ],
   "source": [
    "data.view(-1) # 1차원으로 flatten"
   ]
  },
  {
   "cell_type": "code",
   "execution_count": 22,
   "id": "1be96f4f",
   "metadata": {},
   "outputs": [
    {
     "data": {
      "text/plain": [
       "tensor([[0.9054, 0.6069, 0.7107, 0.3082, 0.7712, 0.4765, 0.7245, 0.3763, 0.3814],\n",
       "        [0.9966, 0.2781, 0.7850, 0.6615, 0.3447, 0.3785, 0.4121, 0.1556, 0.9162],\n",
       "        [0.4732, 0.0150, 0.5975, 0.7355, 0.7278, 0.5817, 0.3785, 0.9067, 0.4407]])"
      ]
     },
     "execution_count": 22,
     "metadata": {},
     "output_type": "execute_result"
    }
   ],
   "source": [
    "data.view(3, -1) # 행의 값을 3으로 하고 열의 값을 알아서 채워줌"
   ]
  },
  {
   "cell_type": "code",
   "execution_count": 23,
   "id": "914677e7",
   "metadata": {},
   "outputs": [
    {
     "data": {
      "text/plain": [
       "tensor([[0.9054, 0.6069, 0.7107],\n",
       "        [0.3082, 0.7712, 0.4765],\n",
       "        [0.7245, 0.3763, 0.3814],\n",
       "        [0.9966, 0.2781, 0.7850],\n",
       "        [0.6615, 0.3447, 0.3785],\n",
       "        [0.4121, 0.1556, 0.9162],\n",
       "        [0.4732, 0.0150, 0.5975],\n",
       "        [0.7355, 0.7278, 0.5817],\n",
       "        [0.3785, 0.9067, 0.4407]])"
      ]
     },
     "execution_count": 23,
     "metadata": {},
     "output_type": "execute_result"
    }
   ],
   "source": [
    "data.view(-1,3)"
   ]
  },
  {
   "cell_type": "markdown",
   "id": "904f8089",
   "metadata": {},
   "source": [
    "# tensor 데이터의 형태 확인"
   ]
  },
  {
   "cell_type": "code",
   "execution_count": 24,
   "id": "45ebe7c7",
   "metadata": {},
   "outputs": [
    {
     "data": {
      "text/plain": [
       "torch.Size([3, 3, 3])"
      ]
     },
     "execution_count": 24,
     "metadata": {},
     "output_type": "execute_result"
    }
   ],
   "source": [
    "data.shape"
   ]
  },
  {
   "cell_type": "code",
   "execution_count": 25,
   "id": "41e85f3a",
   "metadata": {},
   "outputs": [
    {
     "data": {
      "text/plain": [
       "torch.float32"
      ]
     },
     "execution_count": 25,
     "metadata": {},
     "output_type": "execute_result"
    }
   ],
   "source": [
    "data.dtype"
   ]
  },
  {
   "cell_type": "code",
   "execution_count": 26,
   "id": "c4aba8ca",
   "metadata": {},
   "outputs": [
    {
     "data": {
      "text/plain": [
       "3"
      ]
     },
     "execution_count": 26,
     "metadata": {},
     "output_type": "execute_result"
    }
   ],
   "source": [
    "data.dim()"
   ]
  },
  {
   "cell_type": "markdown",
   "id": "2fc6fa30",
   "metadata": {},
   "source": [
    "# cuda 디바이스 체크 및 데이터 올리기"
   ]
  },
  {
   "cell_type": "code",
   "execution_count": 27,
   "id": "00e6c0b3",
   "metadata": {},
   "outputs": [
    {
     "data": {
      "text/plain": [
       "'NVIDIA GeForce RTX 4070 Laptop GPU'"
      ]
     },
     "execution_count": 27,
     "metadata": {},
     "output_type": "execute_result"
    }
   ],
   "source": [
    "torch.cuda.get_device_name(0)"
   ]
  },
  {
   "cell_type": "code",
   "execution_count": 29,
   "id": "80ab8dc7",
   "metadata": {},
   "outputs": [],
   "source": [
    "device = torch.device(\"cuda:1\")"
   ]
  },
  {
   "cell_type": "code",
   "execution_count": null,
   "id": "962327c7",
   "metadata": {},
   "outputs": [
    {
     "data": {
      "text/plain": [
       "tensor([1, 2, 3])"
      ]
     },
     "execution_count": 30,
     "metadata": {},
     "output_type": "execute_result"
    }
   ],
   "source": [
    "data = torch.tensor([1, 2, 3]) # 현재는 GPU가 아닌 CPU 메모리에 올라와 있는 상태\n",
    "data"
   ]
  },
  {
   "cell_type": "code",
   "execution_count": null,
   "id": "8d554638",
   "metadata": {},
   "outputs": [
    {
     "data": {
      "text/plain": [
       "tensor([1, 2, 3], device='cuda:0')"
      ]
     },
     "execution_count": 34,
     "metadata": {},
     "output_type": "execute_result"
    }
   ],
   "source": [
    "data.to('cuda') # 데이터를 GPU로 올리기 1 "
   ]
  },
  {
   "cell_type": "code",
   "execution_count": 35,
   "id": "02b1b9b8",
   "metadata": {},
   "outputs": [],
   "source": [
    "data1 = torch.tensor([1,2,3]).cuda() # 데이터를 GPU로 올리기 2"
   ]
  },
  {
   "cell_type": "code",
   "execution_count": 36,
   "id": "23abd8e3",
   "metadata": {},
   "outputs": [
    {
     "data": {
      "text/plain": [
       "tensor([1, 2, 3])"
      ]
     },
     "execution_count": 36,
     "metadata": {},
     "output_type": "execute_result"
    }
   ],
   "source": [
    "data1.to('cpu')"
   ]
  },
  {
   "cell_type": "markdown",
   "id": "e6deed0e",
   "metadata": {},
   "source": [
    "# tensor 연산"
   ]
  },
  {
   "cell_type": "code",
   "execution_count": null,
   "id": "1c3f2651",
   "metadata": {},
   "outputs": [
    {
     "data": {
      "text/plain": [
       "tensor([2, 4, 6], device='cuda:0')"
      ]
     },
     "execution_count": 37,
     "metadata": {},
     "output_type": "execute_result"
    }
   ],
   "source": [
    "data = data.to('cuda')\n",
    "data1 = torch.tensor([1,2,3]).cuda()"
   ]
  },
  {
   "cell_type": "code",
   "execution_count": 38,
   "id": "5d632ac0",
   "metadata": {},
   "outputs": [
    {
     "data": {
      "text/plain": [
       "tensor([2, 4, 6], device='cuda:0')"
      ]
     },
     "execution_count": 38,
     "metadata": {},
     "output_type": "execute_result"
    }
   ],
   "source": [
    "data + data1"
   ]
  },
  {
   "cell_type": "code",
   "execution_count": 39,
   "id": "3558a41e",
   "metadata": {},
   "outputs": [
    {
     "data": {
      "text/plain": [
       "tensor([0, 0, 0], device='cuda:0')"
      ]
     },
     "execution_count": 39,
     "metadata": {},
     "output_type": "execute_result"
    }
   ],
   "source": [
    "data - data1"
   ]
  },
  {
   "cell_type": "code",
   "execution_count": 40,
   "id": "76bdcacb",
   "metadata": {},
   "outputs": [
    {
     "data": {
      "text/plain": [
       "tensor([1., 1., 1.], device='cuda:0')"
      ]
     },
     "execution_count": 40,
     "metadata": {},
     "output_type": "execute_result"
    }
   ],
   "source": [
    "data / data1"
   ]
  },
  {
   "cell_type": "code",
   "execution_count": 41,
   "id": "9c3b085a",
   "metadata": {},
   "outputs": [
    {
     "data": {
      "text/plain": [
       "tensor([1, 4, 9], device='cuda:0')"
      ]
     },
     "execution_count": 41,
     "metadata": {},
     "output_type": "execute_result"
    }
   ],
   "source": [
    "data * data1"
   ]
  },
  {
   "cell_type": "markdown",
   "id": "3cf874c9",
   "metadata": {},
   "source": [
    "# tensor 내장 함수"
   ]
  },
  {
   "cell_type": "code",
   "execution_count": 45,
   "id": "99c92930",
   "metadata": {},
   "outputs": [],
   "source": [
    "data = torch.tensor([[1, 2, 3], [4, 5, 6]])"
   ]
  },
  {
   "cell_type": "code",
   "execution_count": 46,
   "id": "df5696a9",
   "metadata": {},
   "outputs": [
    {
     "data": {
      "text/plain": [
       "tensor(1)"
      ]
     },
     "execution_count": 46,
     "metadata": {},
     "output_type": "execute_result"
    }
   ],
   "source": [
    "data.min()"
   ]
  },
  {
   "cell_type": "code",
   "execution_count": 48,
   "id": "0abe2610",
   "metadata": {},
   "outputs": [
    {
     "data": {
      "text/plain": [
       "torch.return_types.min(\n",
       "values=tensor([1, 2, 3]),\n",
       "indices=tensor([0, 0, 0]))"
      ]
     },
     "execution_count": 48,
     "metadata": {},
     "output_type": "execute_result"
    }
   ],
   "source": [
    "data.min(dim = 0)"
   ]
  },
  {
   "cell_type": "code",
   "execution_count": 49,
   "id": "23e97d62",
   "metadata": {},
   "outputs": [
    {
     "data": {
      "text/plain": [
       "torch.return_types.max(\n",
       "values=tensor([3, 6]),\n",
       "indices=tensor([2, 2]))"
      ]
     },
     "execution_count": 49,
     "metadata": {},
     "output_type": "execute_result"
    }
   ],
   "source": [
    "data.max(dim = 1)"
   ]
  },
  {
   "cell_type": "code",
   "execution_count": 51,
   "id": "0fd8e32a",
   "metadata": {},
   "outputs": [
    {
     "name": "stdout",
     "output_type": "stream",
     "text": [
      "torch.int64\n",
      "torch.float32\n"
     ]
    }
   ],
   "source": [
    "print(data.dtype)\n",
    "data = data.type(torch.float)\n",
    "print(data.dtype)"
   ]
  },
  {
   "cell_type": "code",
   "execution_count": null,
   "id": "359d35d3",
   "metadata": {},
   "outputs": [],
   "source": [
    "data1 = torch.tensor([[1, 2, 3], [4, 5, 6]])\n",
    "data2 = torch.tensor([[1.5, 2.5, 3.5], [4.5, 5.5, 6.5]])\n",
    "data1 + data2\n",
    "\n",
    "# data 의 타입이 정수형으로 형변환 되었다..."
   ]
  },
  {
   "cell_type": "markdown",
   "id": "ec2b5d76",
   "metadata": {},
   "source": [
    "# 예시 : 이미지 처리"
   ]
  },
  {
   "cell_type": "code",
   "execution_count": null,
   "id": "5ace6628",
   "metadata": {},
   "outputs": [
    {
     "data": {
      "text/plain": [
       "torch.Size([1, 3, 128, 128])"
      ]
     },
     "execution_count": 60,
     "metadata": {},
     "output_type": "execute_result"
    }
   ],
   "source": [
    "image = torch.rand(3, 128, 128)\n",
    "image.view(1, 3, 128, 128).shape # 이미지 차원 변경 1"
   ]
  },
  {
   "cell_type": "code",
   "execution_count": 64,
   "id": "e8280bec",
   "metadata": {},
   "outputs": [
    {
     "data": {
      "text/plain": [
       "torch.Size([1, 3, 128, 128])"
      ]
     },
     "execution_count": 64,
     "metadata": {},
     "output_type": "execute_result"
    }
   ],
   "source": [
    "image = torch.rand(3, 128, 128)\n",
    "image = image.unsqueeze(dim=0)  # 이미지 차원 변경 2\n",
    "# 지정한 위치에 차원을 늘려주는 역할\n",
    "image.shape"
   ]
  },
  {
   "cell_type": "code",
   "execution_count": 77,
   "id": "f7afd7d7",
   "metadata": {},
   "outputs": [
    {
     "data": {
      "text/plain": [
       "torch.Size([128, 128])"
      ]
     },
     "execution_count": 77,
     "metadata": {},
     "output_type": "execute_result"
    }
   ],
   "source": [
    "image = torch.rand(1, 128, 128)\n",
    "image = image.squeeze(dim=0)\n",
    "image.shape"
   ]
  }
 ],
 "metadata": {
  "kernelspec": {
   "display_name": "DeepLearning-Study (3.11.13)",
   "language": "python",
   "name": "python3"
  },
  "language_info": {
   "codemirror_mode": {
    "name": "ipython",
    "version": 3
   },
   "file_extension": ".py",
   "mimetype": "text/x-python",
   "name": "python",
   "nbconvert_exporter": "python",
   "pygments_lexer": "ipython3",
   "version": "3.11.13"
  }
 },
 "nbformat": 4,
 "nbformat_minor": 5
}
