{
 "cells": [
  {
   "cell_type": "code",
   "execution_count": 3,
   "id": "852ea2d1",
   "metadata": {},
   "outputs": [],
   "source": [
    "import torch\n",
    "import torch.nn as nn\n",
    "import torch.nn.functional as F\n",
    "from torch.optim import Adam\n",
    "\n",
    "import matplotlib.pyplot as plt\n",
    "from torchvision.datasets.mnist import MNIST\n",
    "from torchvision.transforms import transforms         # 이미지 변형\n",
    "from torch.utils.data.dataloader import DataLoader  # train - test 분리\n",
    "\n",
    "from tensorboardX import SummaryWriter\n",
    "writer = SummaryWriter()"
   ]
  },
  {
   "cell_type": "markdown",
   "id": "79f39cff",
   "metadata": {},
   "source": [
    "## 1. 데이터 불러오기"
   ]
  },
  {
   "cell_type": "code",
   "execution_count": 4,
   "id": "35e72d39",
   "metadata": {},
   "outputs": [],
   "source": [
    "data_transform = transforms.Compose([\n",
    "    transforms.ToTensor(),\n",
    "    transforms.Resize(32),\n",
    "    transforms.Normalize((0.5),(1.0)) # 평균, 표준편차\n",
    "])\n",
    "\n",
    "train_data = MNIST(root='./', train=True, download=True, transform=data_transform) \n",
    "test_data = MNIST(root='./', train=False, download=True, transform=data_transform) \n",
    "# transform : 데이터 전처리함수"
   ]
  },
  {
   "cell_type": "code",
   "execution_count": null,
   "id": "dd93554c",
   "metadata": {},
   "outputs": [],
   "source": [
    "train_data.data.shape"
   ]
  },
  {
   "cell_type": "markdown",
   "id": "7b01d39e",
   "metadata": {},
   "source": [
    "## 3. 배치 사이즈에 따른 데이터 분리`"
   ]
  },
  {
   "cell_type": "code",
   "execution_count": 5,
   "id": "b61d6ae0",
   "metadata": {},
   "outputs": [],
   "source": [
    "train_loader = DataLoader(train_data, batch_size=32, shuffle=True) \n",
    "test_loader = DataLoader(test_data, batch_size=32) "
   ]
  },
  {
   "cell_type": "code",
   "execution_count": null,
   "id": "239cd32e",
   "metadata": {},
   "outputs": [],
   "source": [
    "data, label = next(iter(train_loader))\n",
    "print(data.shape)"
   ]
  },
  {
   "cell_type": "markdown",
   "id": "6196a2ba",
   "metadata": {},
   "source": [
    "## 4. 모델 만들기"
   ]
  },
  {
   "cell_type": "code",
   "execution_count": 6,
   "id": "b0136385",
   "metadata": {},
   "outputs": [],
   "source": [
    "class Lenet(nn.Module):\n",
    "    def __init__(self):\n",
    "        super(Lenet, self).__init__()\n",
    "\n",
    "        # convolutions\n",
    "        self.conv1 = nn.Conv2d(in_channels=1, out_channels=6, kernel_size=5, stride=1)\n",
    "        self.conv2 = nn.Conv2d(in_channels=6, out_channels=16, kernel_size=5, stride=1)\n",
    "        self.conv3 = nn.Conv2d(in_channels=16, out_channels=120, kernel_size=5, stride=1)\n",
    "\n",
    "        # fully connection\n",
    "        self.fc1 = nn.Linear(in_features=120, out_features=84)\n",
    "        self.fc2 = nn.Linear(in_features=84, out_features=10)\n",
    "    \n",
    "    def forward(self, x):\n",
    "        x = self.conv1(x)         \n",
    "        x = F.tanh(x)             # 6 28 28\n",
    "        x = F.max_pool2d(x, kernel_size=2, stride=2) # subsampling 6 14 14\n",
    "\n",
    "        x = self.conv2(x)         # 16 10 10 ((14 - 5 + (2 * 0)) / 1 + 1)\n",
    "        x = F.tanh(x)\n",
    "        x = F.max_pool2d(x, kernel_size=2, stride=2) # 16 5 5\n",
    "\n",
    "        x = self.conv3(x)         # 120 1 1 ((5 - 5 + (2 * 0)) / 1 + 1)\n",
    "        x = F.tanh(x)\n",
    "\n",
    "        x = x.view(-1, 120)         # 120 이미지 평탄화\n",
    "\n",
    "        x = self.fc1(x)             # 84\n",
    "        x = F.tanh(x)               # 활성함수\n",
    "\n",
    "        x = self.fc2(x)             # 10\n",
    "        nn.Linear(in_features=84, out_features=10)\n",
    "        x = F.tanh(x)               # 활성함수\n",
    "\n",
    "        return x\n",
    "\n",
    "model = Lenet()"
   ]
  },
  {
   "cell_type": "code",
   "execution_count": null,
   "id": "c5fe67ba",
   "metadata": {},
   "outputs": [],
   "source": [
    "class Lenet(nn.Module): # 📌 모델명(nn.Module) , 괄호 안에 nn.Module 을 반드시 적을 것\n",
    "    def __init__(self): # 📌 __init__(self) 를 반드시 해야함\n",
    "        super(Lenet, self).__init__() # 📌 super(모델명, self).__init__() 반드시 해야함\n",
    "\n",
    "        # convolutions\n",
    "        self.conv1 = nn.Conv2d(in_channels=1, out_channels=6, kernel_size=5, stride=1)\n",
    "        self.conv2 = nn.Conv2d(in_channels=6, out_channels=16, kernel_size=5, stride=1)\n",
    "        self.conv3 = nn.Conv2d(in_channels=16, out_channels=120, kernel_size=5, stride=1)\n",
    "\n",
    "        # fully connection\n",
    "        self.fc1 = nn.Linear(in_features=120, out_features=84)\n",
    "        self.fc2 = nn.Linear(in_features=84, out_features=10) # ⭐⭐ out_features 는 내가 분류하고 싶은 정답\n",
    "    \n",
    "    def forward(self, x):  # 📌 forward 안에 self 를 반드시 적어야함\n",
    "\n",
    "        x = self.conv1(x)    \n",
    "        x = F.tanh(x)   # 활성함수                                # 6 28 28\n",
    "        x = F.max_pool2d(x, kernel_size=2, stride=2) # subsampling 6 14 14\n",
    "\n",
    "        x = self.conv2(x)\n",
    "        x = F.tanh(x)   # 활성함수\n",
    "        x = F.max_pool2d(x, kernel_size=2, stride=2) # 16 5 5\n",
    "\n",
    "        x = self.conv3(x)\n",
    "        x = F.tanh(x)\n",
    "\n",
    "        x = torch.reshape(x, (-1, 120)) # 이미지 평탄화\n",
    "\n",
    "        x = self.fc1(x)             # 선형함수 84\n",
    "        x = F.tanh(x)               # 활성함수\n",
    "\n",
    "        x = self.fc2(x)             # 선형함수 10\n",
    "        x = F.tanh(x)               # 활성함수\n",
    "\n",
    "        return x"
   ]
  },
  {
   "cell_type": "code",
   "execution_count": 18,
   "id": "208f7059",
   "metadata": {},
   "outputs": [],
   "source": [
    "model = Lenet()"
   ]
  },
  {
   "cell_type": "code",
   "execution_count": null,
   "id": "89c9ec86",
   "metadata": {},
   "outputs": [],
   "source": [
    "from torchsummary import summary\n",
    "\n",
    "summary(model, input_size=(1, 32, 32))"
   ]
  },
  {
   "cell_type": "code",
   "execution_count": null,
   "id": "257dc4bc",
   "metadata": {},
   "outputs": [],
   "source": [
    "# 모두 gpu에 올라가게 하는 코드\n",
    "\n",
    "# if torch.backends.cuda.is_available():\n",
    "#   torch.set_default_device(\"cuda\")"
   ]
  },
  {
   "cell_type": "markdown",
   "id": "6de39a36",
   "metadata": {},
   "source": [
    "## 모델 학습하기"
   ]
  },
  {
   "cell_type": "code",
   "execution_count": null,
   "id": "554f785c",
   "metadata": {},
   "outputs": [],
   "source": [
    "from tensorboardX import SummaryWriter\n",
    "writer = SummaryWriter()\n",
    "\n",
    "device = 'cuda' if torch.cuda.is_available() else 'cpu'\n",
    "model.to(device)\n",
    "\n",
    "lr = 1e-3\n",
    "optim = Adam(model.parameters(), lr=lr)\n",
    "epochs = 10\n",
    "criterion = nn.CrossEntropyLoss()\n",
    "\n",
    "step = 0\n",
    "for epoch in range(epochs):\n",
    "    for data, label in train_loader: # [(data, label)]\n",
    "        optim.zero_grad() # 📌 최적화 함수를 초기화 해야함 (한 번 학습시 마다)\n",
    "\n",
    "        # 1) 순전파\n",
    "        pred = model(data.to(device)) # 데이터 위치 체크\n",
    "\n",
    "        # 2) 손실 계산\n",
    "        loss = criterion(pred, label.to(device)) # 데이터 위치 체크\n",
    "\n",
    "        # 3) 역전파\n",
    "        loss.backward()\n",
    "        optim.step() # 4) 파라미터 업데이트\n",
    "\n",
    "        # tensorboard에 데이터 추가\n",
    "        writer.add_scalar(\"Loss/train\", loss.item(), step)\n",
    "        step += 1\n",
    "\n",
    "    print(f\"{epoch + 1} loss : {loss.item()}\")"
   ]
  },
  {
   "cell_type": "markdown",
   "id": "6ea6aa91",
   "metadata": {},
   "source": [
    "## 모델 저장하기"
   ]
  },
  {
   "cell_type": "code",
   "execution_count": null,
   "id": "508bd18d",
   "metadata": {},
   "outputs": [],
   "source": [
    "import joblib\n",
    "\n",
    "# 모델 저장\n",
    "joblib.dump(model, 'models/number_image_cnn_model.pkl')"
   ]
  },
  {
   "cell_type": "markdown",
   "id": "517f940f",
   "metadata": {},
   "source": [
    "## 모델 평가"
   ]
  },
  {
   "cell_type": "code",
   "execution_count": null,
   "id": "7aefd996",
   "metadata": {},
   "outputs": [],
   "source": [
    "import joblib\n",
    "\n",
    "# 모델 불러오기\n",
    "loaded_model = joblib.load('models/number_image_cnn_model.pkl')\n",
    "\n",
    "loaded_model.eval() # 모델을 추론용으로 전환하게 하는 코드\n",
    "\n",
    "falut_data = []\n",
    "\n",
    "with torch.no_grad():\n",
    "    total_corr = 0\n",
    "    for images, labels in test_loader:\n",
    "        X = images.to(device)\n",
    "        labels = labels.to(device)\n",
    "\n",
    "        preds = loaded_model(X)\n",
    "        _, pred = torch.max(preds.data, dim = 1)\n",
    "        \n",
    "        result = (pred == labels)\n",
    "        total_corr += (result).sum().item()\n",
    "\n",
    "        for i, re in enumerate(result):\n",
    "            if re == False:\n",
    "                falut_data.append({\n",
    "                    'image' : images[i],\n",
    "                    'pred' : pred[i],\n",
    "                    'label' :labels[i]\n",
    "                })\n",
    "\n",
    "print(f'정확도 : {total_corr / len(test_data.targets)}')"
   ]
  },
  {
   "cell_type": "markdown",
   "id": "24fb2674",
   "metadata": {},
   "source": [
    "## 모델 사용"
   ]
  },
  {
   "cell_type": "code",
   "execution_count": null,
   "id": "1fe08a04",
   "metadata": {},
   "outputs": [],
   "source": [
    "from torchvision import transforms\n",
    "from PIL import Image\n",
    "\n",
    "# 1. 이미지 파일 경로 지정\n",
    "image_path = 'images/4.jpg'\n",
    "\n",
    "# 2. 이미지 변환(transform) 파이프라인 정의\n",
    "# PyTorch 모델에 입력하기 위해 이미지를 텐서로 변환하는 과정을 정의\n",
    "# ToTensor()는 PIL Image를 PyTorch 텐서로 변환하며, 픽셀 값을 [0, 1] 범위로 정규화\n",
    "transform = transforms.Compose([\n",
    "    transforms.ToTensor(),              # 이미지를 PyTorch 텐서로 변환\n",
    "    transforms.Grayscale(),\n",
    "    transforms.Resize((32, 32)),        # 이미지를  리사이즈\n",
    "    transforms.Normalize((0.5),(1.0))   # 평균, 표준편차\n",
    "])\n",
    "\n",
    "with Image.open(image_path) as image:\n",
    "        print(f\"PIL Image 크기: {image.size}\")\n",
    "        print(f\"PIL Image 모드: {image.mode}\")\n",
    "\n",
    "        image = image.convert('L')\n",
    "        \n",
    "        plt.imshow(image, cmap='gray')\n",
    "        plt.show()\n",
    "\n",
    "        # 4. 정의한 변환(transform)을 이미지에 적용\n",
    "        tensor_image = transform(image)\n",
    "\n",
    "# 5. 텐서 정보 확인\n",
    "print(\"\\n이미지를 텐서로 변환 완료:\")\n",
    "print(f\"텐서 크기(size): {tensor_image.size}\")\n",
    "print(f\"텐서 데이터 타입: {tensor_image.dtype}\")\n",
    "\n",
    "# 6. 모델 예측\n",
    "device = 'cuda' if torch.cuda.is_available() else 'cpu'\n",
    "loaded_model.to(device)\n",
    "\n",
    "tensor_image = tensor_image.unsqueeze(dim=0)\n",
    "preds = loaded_model(tensor_image.to(device))\n",
    "_, pred = torch.max(preds.data, dim=1)\n",
    "print(f\"예측 결과: {pred.item()}\")"
   ]
  }
 ],
 "metadata": {
  "kernelspec": {
   "display_name": "DeepLearning-Study (3.11.13)",
   "language": "python",
   "name": "python3"
  },
  "language_info": {
   "codemirror_mode": {
    "name": "ipython",
    "version": 3
   },
   "file_extension": ".py",
   "mimetype": "text/x-python",
   "name": "python",
   "nbconvert_exporter": "python",
   "pygments_lexer": "ipython3",
   "version": "3.11.13"
  }
 },
 "nbformat": 4,
 "nbformat_minor": 5
}
